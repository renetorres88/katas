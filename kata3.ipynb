{
 "cells": [
  {
   "cell_type": "code",
   "execution_count": 2,
   "metadata": {},
   "outputs": [
    {
     "name": "stdout",
     "output_type": "stream",
     "text": [
      "96\n"
     ]
    }
   ],
   "source": [
    "a = 55\n",
    "b = 96\n",
    "# test expression / expresión de prueba\n",
    "if a < b:\n",
    "    # statement to be run / instrucción a ejecutar\n",
    "    print(b)"
   ]
  },
  {
   "cell_type": "code",
   "execution_count": 3,
   "metadata": {},
   "outputs": [
    {
     "name": "stdout",
     "output_type": "stream",
     "text": [
      "44\n"
     ]
    }
   ],
   "source": [
    "a = 24\n",
    "b = 44\n",
    "if a <= 0:\n",
    "    print(a)\n",
    "print(b)"
   ]
  },
  {
   "cell_type": "code",
   "execution_count": null,
   "metadata": {},
   "outputs": [],
   "source": [
    "#velocidad\n",
    "v=49\n",
    "if v>=25:\n",
    "    print(\"Advertencia se acerca un asteroide\")\n",
    "else:\n",
    "    print(\"todo normal\")"
   ]
  },
  {
   "cell_type": "code",
   "execution_count": null,
   "metadata": {},
   "outputs": [],
   "source": [
    "v=18\n",
    "\n",
    "if v>=20:\n",
    "    print(\"Busca un asteroide en el cielo\")\n",
    "else:\n",
    "    print(\"No se puede ver rayo de luz en el cielo\")"
   ]
  },
  {
   "cell_type": "code",
   "execution_count": 4,
   "metadata": {},
   "outputs": [
    {
     "name": "stdout",
     "output_type": "stream",
     "text": [
      "Advertencie de un meteorito, se quemará por tamaño menor pero tiene alta velocidad\n"
     ]
    }
   ],
   "source": [
    "\n",
    "# Agrega el código para crear nuevas variables para la velocidad y el tamaño del asteroide\n",
    "# Para probar el código, prueba con varias velocidades y tamaños\n",
    "# Escribe varias expresiones de prueba o combinaciones de expresiones de prueba para determinar qué mensaje se debe enviar a Tierra.\n",
    "\n",
    "# tamaño\n",
    "t=20\n",
    "v=26\n",
    "if v>=25:\n",
    "    if t<25:\n",
    "        print(\"Advertencie de un meteorito, se quemará por tamaño menor pero tiene alta velocidad\")\n",
    "    elif t>25 or t<1000:\n",
    "        print(\"Advertencie de un meteorito, puede hacer mucho daño\")\n",
    "elif v>=20:\n",
    "    print(\"se está produciendo un rayo de luz\")"
   ]
  }
 ],
 "metadata": {
  "interpreter": {
   "hash": "89a16dd1826562c6c3c806b0f1d3f41b250df0a4bbadc199da1b00b9b1e3eacc"
  },
  "kernelspec": {
   "display_name": "Python 3.10.2 32-bit",
   "language": "python",
   "name": "python3"
  },
  "language_info": {
   "codemirror_mode": {
    "name": "ipython",
    "version": 3
   },
   "file_extension": ".py",
   "mimetype": "text/x-python",
   "name": "python",
   "nbconvert_exporter": "python",
   "pygments_lexer": "ipython3",
   "version": "3.10.2"
  },
  "orig_nbformat": 4
 },
 "nbformat": 4,
 "nbformat_minor": 2
}
