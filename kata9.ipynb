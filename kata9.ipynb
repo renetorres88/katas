{
 "cells": [
  {
   "cell_type": "markdown",
   "metadata": {},
   "source": [
    "# Ejercicio 1: Trabajar con argumentos en funciones"
   ]
  },
  {
   "cell_type": "code",
   "execution_count": 1,
   "metadata": {},
   "outputs": [
    {
     "name": "stdout",
     "output_type": "stream",
     "text": [
      "promedio de combustible 3.3333333333333335\n"
     ]
    },
    {
     "data": {
      "text/plain": [
       "3.3333333333333335"
      ]
     },
     "execution_count": 1,
     "metadata": {},
     "output_type": "execute_result"
    }
   ],
   "source": [
    "# Función para leer 3 tanques de combustible y muestre el promedio\n",
    "def tanques(tanque1,tanque2,tanque3):\n",
    "    prom=(tanque1+tanque2+tanque3)/3\n",
    "    print('promedio de combustible',prom)\n",
    "    return prom\n",
    "    # Llamamos a la función que genera el reporte print(funcion(tanque1, tanque2, tanque3))\n",
    "tanques(3,2,5)\n",
    "def promedio(tanque1,tanque2,tanque3):\n",
    "    prom=(tanque1+tanque2+tanque3)/3\n",
    "    return prom\n",
    "    # Función para leer 3 tanques de combustible y muestre el promedio\n",
    "def tanques(tanque1,tanque2,tanque3):\n",
    "    prom=promedio(tanque1,tanque2,tanque3)\n",
    "    print('promedio de combustible',prom)\n",
    "    return prom"
   ]
  },
  {
   "cell_type": "markdown",
   "metadata": {},
   "source": [
    "# Ejercicio 2: Trabajar con argumentos de palabras clave en funciones"
   ]
  },
  {
   "cell_type": "code",
   "execution_count": null,
   "metadata": {},
   "outputs": [],
   "source": [
    "# Función con un informe preciso de la misión. Considera hora de prelanzamiento, tiempo de vuelo, destino, tanque externo y tanque interno\n",
    "from datetime import timedelta, datetime\n",
    "\n",
    "def arrival_time(tiempodevuelo,destino,tanqueexterno,tanqueinterno,prelanzamiento):\n",
    "    now = datetime.now()\n",
    "    arrival = now + timedelta(hours=tiempodevuelo)\n",
    "    print('\\nprelanzamiento:',prelanzamiento,\n",
    "         '\\ntanque interno:',tanqueinterno,\n",
    "         '\\ntanque externo:',tanqueexterno,\n",
    "          '\\ntiempo de vuelo en horas:',tiempodevuelo,\n",
    "         '\\ndestino:',destino)\n",
    "         def arrival_time(destino,*minutes,**fuel_reservoirs):\n",
    "    now = datetime.now()\n",
    "    arrival = now + timedelta(hours=sum(minutes))\n",
    "    tanques=sum(fuel_reservoirs.values())\n",
    "    ntanques=len(fuel_reservoirs.items())\n",
    "    print('\\ntanques:',tanques,\n",
    "          '\\nno. de tanques:',ntanques,\n",
    "         '\\ndestino:',destino)\n",
    "         arrival_time('moon',12,12,23,inte=300)\n",
    "         def arrival_time(destino,*minutes,**fuel_reservoirs):\n",
    "    now = datetime.now()\n",
    "    arrival = now + timedelta(hours=sum(minutes))\n",
    "    tanques=sum(fuel_reservoirs.values())\n",
    "    ntanques=len(fuel_reservoirs.items())\n",
    "    for title, name in fuel_reservoirs.items():\n",
    "        print(f'{title}: {name}')\n",
    "    print('\\ntanques:',tanques,\n",
    "          '\\nno. de tanques:',ntanques,\n",
    "         '\\ndestino:',destino)\n",
    "       arrival_time('moon',12,12,23,tanqueinterno=300)  "
   ]
  }
 ],
 "metadata": {
  "interpreter": {
   "hash": "89a16dd1826562c6c3c806b0f1d3f41b250df0a4bbadc199da1b00b9b1e3eacc"
  },
  "kernelspec": {
   "display_name": "Python 3.10.2 32-bit",
   "language": "python",
   "name": "python3"
  },
  "language_info": {
   "codemirror_mode": {
    "name": "ipython",
    "version": 3
   },
   "file_extension": ".py",
   "mimetype": "text/x-python",
   "name": "python",
   "nbconvert_exporter": "python",
   "pygments_lexer": "ipython3",
   "version": "3.10.2"
  },
  "orig_nbformat": 4
 },
 "nbformat": 4,
 "nbformat_minor": 2
}
